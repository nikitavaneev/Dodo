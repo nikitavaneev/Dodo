{
 "cells": [
  {
   "cell_type": "code",
   "execution_count": 1,
   "id": "3b8fc00d",
   "metadata": {},
   "outputs": [],
   "source": [
    "# Системные библиотеки\n",
    "import seaborn as sns\n",
    "import pandas as pd\n",
    "import numpy as np\n",
    "import matplotlib.pyplot as plt\n",
    "from datetime import date\n",
    "import warnings\n",
    "warnings.filterwarnings('ignore')"
   ]
  },
  {
   "cell_type": "markdown",
   "id": "4e5a67de",
   "metadata": {},
   "source": [
    "## Задание 1"
   ]
  },
  {
   "cell_type": "markdown",
   "id": "6f08f163",
   "metadata": {},
   "source": [
    "Задание:  \n",
    "Представьте, что вы работаете аналитиком в Додо. Вам доступны все внутренние данные (данные по чекам, клиентам, локациям).\n",
    "\n",
    "В марте 2022 часть Макдональдсов закрылась, часть продолжала работать. Вам необходимо ответить на следующие вопросы: \n",
    "\n",
    "1)на какие наши метрики, на ваш взгляд, могло повлиять закрытие конкурента?  \n",
    "2)вам необходимо оценить эффект в рублях на нашу выручку от закрытия конкурента. Опишите, какую методологию бы использовали, чтобы рассчитать эффект  \n",
    "3)какие общедоступные данные по Макдональдсам можно было бы использовать для ответа на второй вопрос. Опишите, как бы вы их использовали?  \n",
    "\n"
   ]
  },
  {
   "cell_type": "markdown",
   "id": "dac197cd",
   "metadata": {},
   "source": [
    "1) На увеличения числа регистраций, заказов. И увеличения числа заказов не на пиццу, а на перекусы (дотстеры и тд) (То что похоже на товары из макдональдса)  \n",
    "2) Я бы разделил товары по группам. Пиццы, и перекусы. И также бы разделил офлайн и онлайн продажи. Я думаю, что максимальный прирост получается в группе перекусов.  Дальше можно было бы провести A/B тест, где мы выяснили бы эффект от закрытия конкурента. Подход был бы основан на методе CUPED. Мы бы выбрали в качестве теста,2 недели когда мак был открыт, и 2 недели когда стал закрыт, а в контрольную выборку, можно было бы взять результаты которые проходили бы в эти же даты, но в прошлый период  \n",
    "3) Также оценить можно было бы, \"грубым методом\". Посмотреть долю рынка макдональдса, и посмотреть долю рынка Додо и остальных конкурентов, И после ухода макдональдса, перераспределить его долю, на остальных конкурентов и Додо. И посмотреть долю прибавки в клиентах, и из этого сделать вывод об эффекте в рублях"
   ]
  },
  {
   "cell_type": "markdown",
   "id": "de459c0f",
   "metadata": {},
   "source": [
    "## Задание 2"
   ]
  },
  {
   "cell_type": "markdown",
   "id": "e25aadf1",
   "metadata": {},
   "source": [
    "Задание:  \n",
    "Предположим в ряде городов в определенный период проведен тест:  \n",
    "В тестовых городах на веб-сайте пиццы располагаются по популярности  \n",
    "Во всех остальных по увеличению цены на пиццу  \n",
    "Вопросы:  \n",
    "На какие метрики мог повлиять тест?  \n",
    "Сделайте визуальный анализ датасета. Как ведут себя метрики в динамике? Какие распределения в данных?  \n",
    "Как можно оценить эффект от теста? Если знаете несколько способов, реализуйте один, а другие опишите письменно.   \n"
   ]
  },
  {
   "cell_type": "markdown",
   "id": "9b8d498d",
   "metadata": {},
   "source": [
    "Загружаем"
   ]
  },
  {
   "cell_type": "code",
   "execution_count": 2,
   "id": "4c17d65d",
   "metadata": {},
   "outputs": [
    {
     "data": {
      "text/html": [
       "<div>\n",
       "<style scoped>\n",
       "    .dataframe tbody tr th:only-of-type {\n",
       "        vertical-align: middle;\n",
       "    }\n",
       "\n",
       "    .dataframe tbody tr th {\n",
       "        vertical-align: top;\n",
       "    }\n",
       "\n",
       "    .dataframe thead th {\n",
       "        text-align: right;\n",
       "    }\n",
       "</style>\n",
       "<table border=\"1\" class=\"dataframe\">\n",
       "  <thead>\n",
       "    <tr style=\"text-align: right;\">\n",
       "      <th></th>\n",
       "      <th>Date</th>\n",
       "      <th>CityName</th>\n",
       "      <th>OrderSource</th>\n",
       "      <th>Category</th>\n",
       "      <th>rto</th>\n",
       "      <th>rto_do</th>\n",
       "      <th>cost</th>\n",
       "      <th>tickets</th>\n",
       "      <th>qty</th>\n",
       "      <th>clients_qty</th>\n",
       "      <th>avg_time</th>\n",
       "      <th>avg_price</th>\n",
       "    </tr>\n",
       "  </thead>\n",
       "  <tbody>\n",
       "    <tr>\n",
       "      <th>0</th>\n",
       "      <td>2022-01-01</td>\n",
       "      <td>Абакан</td>\n",
       "      <td>mp</td>\n",
       "      <td>пицца</td>\n",
       "      <td>83118.110</td>\n",
       "      <td>83162.76</td>\n",
       "      <td>19535.96300</td>\n",
       "      <td>61.0</td>\n",
       "      <td>152.0</td>\n",
       "      <td>123.0</td>\n",
       "      <td>24.278042</td>\n",
       "      <td>546.82965</td>\n",
       "    </tr>\n",
       "    <tr>\n",
       "      <th>1</th>\n",
       "      <td>2022-01-01</td>\n",
       "      <td>Абакан</td>\n",
       "      <td>mp</td>\n",
       "      <td>закуски</td>\n",
       "      <td>13115.895</td>\n",
       "      <td>12950.67</td>\n",
       "      <td>4141.10350</td>\n",
       "      <td>15.0</td>\n",
       "      <td>64.0</td>\n",
       "      <td>45.0</td>\n",
       "      <td>40.270145</td>\n",
       "      <td>204.93585</td>\n",
       "    </tr>\n",
       "    <tr>\n",
       "      <th>2</th>\n",
       "      <td>2022-01-01</td>\n",
       "      <td>Абакан</td>\n",
       "      <td>mp</td>\n",
       "      <td>напитки</td>\n",
       "      <td>1862.760</td>\n",
       "      <td>2533.80</td>\n",
       "      <td>854.59930</td>\n",
       "      <td>9.0</td>\n",
       "      <td>20.0</td>\n",
       "      <td>22.0</td>\n",
       "      <td>37.050053</td>\n",
       "      <td>93.13800</td>\n",
       "    </tr>\n",
       "    <tr>\n",
       "      <th>3</th>\n",
       "      <td>2022-01-01</td>\n",
       "      <td>Абакан</td>\n",
       "      <td>mp</td>\n",
       "      <td>десерты</td>\n",
       "      <td>5002.620</td>\n",
       "      <td>5498.10</td>\n",
       "      <td>1668.68640</td>\n",
       "      <td>8.0</td>\n",
       "      <td>25.0</td>\n",
       "      <td>26.0</td>\n",
       "      <td>26.467460</td>\n",
       "      <td>200.10480</td>\n",
       "    </tr>\n",
       "    <tr>\n",
       "      <th>4</th>\n",
       "      <td>2022-01-01</td>\n",
       "      <td>Абакан</td>\n",
       "      <td>other</td>\n",
       "      <td>пицца</td>\n",
       "      <td>26653.980</td>\n",
       "      <td>25875.51</td>\n",
       "      <td>5532.26600</td>\n",
       "      <td>28.0</td>\n",
       "      <td>44.0</td>\n",
       "      <td>28.0</td>\n",
       "      <td>19.206177</td>\n",
       "      <td>605.77230</td>\n",
       "    </tr>\n",
       "    <tr>\n",
       "      <th>...</th>\n",
       "      <td>...</td>\n",
       "      <td>...</td>\n",
       "      <td>...</td>\n",
       "      <td>...</td>\n",
       "      <td>...</td>\n",
       "      <td>...</td>\n",
       "      <td>...</td>\n",
       "      <td>...</td>\n",
       "      <td>...</td>\n",
       "      <td>...</td>\n",
       "      <td>...</td>\n",
       "      <td>...</td>\n",
       "    </tr>\n",
       "    <tr>\n",
       "      <th>554825</th>\n",
       "      <td>2022-06-30</td>\n",
       "      <td>Якутск</td>\n",
       "      <td>other</td>\n",
       "      <td>десерты</td>\n",
       "      <td>24850.560</td>\n",
       "      <td>23694.72</td>\n",
       "      <td>7158.75300</td>\n",
       "      <td>37.0</td>\n",
       "      <td>144.0</td>\n",
       "      <td>116.0</td>\n",
       "      <td>30.411177</td>\n",
       "      <td>172.57333</td>\n",
       "    </tr>\n",
       "    <tr>\n",
       "      <th>554826</th>\n",
       "      <td>2022-06-30</td>\n",
       "      <td>Якутск</td>\n",
       "      <td>web</td>\n",
       "      <td>пицца</td>\n",
       "      <td>57024.940</td>\n",
       "      <td>62091.63</td>\n",
       "      <td>12972.71300</td>\n",
       "      <td>71.0</td>\n",
       "      <td>91.0</td>\n",
       "      <td>71.0</td>\n",
       "      <td>27.292700</td>\n",
       "      <td>626.64770</td>\n",
       "    </tr>\n",
       "    <tr>\n",
       "      <th>554827</th>\n",
       "      <td>2022-06-30</td>\n",
       "      <td>Якутск</td>\n",
       "      <td>web</td>\n",
       "      <td>закуски</td>\n",
       "      <td>16345.990</td>\n",
       "      <td>15859.62</td>\n",
       "      <td>4398.22270</td>\n",
       "      <td>32.0</td>\n",
       "      <td>60.0</td>\n",
       "      <td>36.0</td>\n",
       "      <td>38.035316</td>\n",
       "      <td>272.43317</td>\n",
       "    </tr>\n",
       "    <tr>\n",
       "      <th>554828</th>\n",
       "      <td>2022-06-30</td>\n",
       "      <td>Якутск</td>\n",
       "      <td>web</td>\n",
       "      <td>напитки</td>\n",
       "      <td>2338.770</td>\n",
       "      <td>2229.99</td>\n",
       "      <td>754.17480</td>\n",
       "      <td>10.0</td>\n",
       "      <td>16.0</td>\n",
       "      <td>14.0</td>\n",
       "      <td>38.793705</td>\n",
       "      <td>146.17313</td>\n",
       "    </tr>\n",
       "    <tr>\n",
       "      <th>554829</th>\n",
       "      <td>2022-06-30</td>\n",
       "      <td>Якутск</td>\n",
       "      <td>web</td>\n",
       "      <td>десерты</td>\n",
       "      <td>3467.920</td>\n",
       "      <td>3404.64</td>\n",
       "      <td>887.26434</td>\n",
       "      <td>9.0</td>\n",
       "      <td>15.0</td>\n",
       "      <td>13.0</td>\n",
       "      <td>19.712570</td>\n",
       "      <td>231.19466</td>\n",
       "    </tr>\n",
       "  </tbody>\n",
       "</table>\n",
       "<p>554830 rows × 12 columns</p>\n",
       "</div>"
      ],
      "text/plain": [
       "             Date CityName OrderSource Category        rto    rto_do  \\\n",
       "0      2022-01-01   Абакан          mp    пицца  83118.110  83162.76   \n",
       "1      2022-01-01   Абакан          mp  закуски  13115.895  12950.67   \n",
       "2      2022-01-01   Абакан          mp  напитки   1862.760   2533.80   \n",
       "3      2022-01-01   Абакан          mp  десерты   5002.620   5498.10   \n",
       "4      2022-01-01   Абакан       other    пицца  26653.980  25875.51   \n",
       "...           ...      ...         ...      ...        ...       ...   \n",
       "554825 2022-06-30   Якутск       other  десерты  24850.560  23694.72   \n",
       "554826 2022-06-30   Якутск         web    пицца  57024.940  62091.63   \n",
       "554827 2022-06-30   Якутск         web  закуски  16345.990  15859.62   \n",
       "554828 2022-06-30   Якутск         web  напитки   2338.770   2229.99   \n",
       "554829 2022-06-30   Якутск         web  десерты   3467.920   3404.64   \n",
       "\n",
       "               cost  tickets    qty  clients_qty   avg_time  avg_price  \n",
       "0       19535.96300     61.0  152.0        123.0  24.278042  546.82965  \n",
       "1        4141.10350     15.0   64.0         45.0  40.270145  204.93585  \n",
       "2         854.59930      9.0   20.0         22.0  37.050053   93.13800  \n",
       "3        1668.68640      8.0   25.0         26.0  26.467460  200.10480  \n",
       "4        5532.26600     28.0   44.0         28.0  19.206177  605.77230  \n",
       "...             ...      ...    ...          ...        ...        ...  \n",
       "554825   7158.75300     37.0  144.0        116.0  30.411177  172.57333  \n",
       "554826  12972.71300     71.0   91.0         71.0  27.292700  626.64770  \n",
       "554827   4398.22270     32.0   60.0         36.0  38.035316  272.43317  \n",
       "554828    754.17480     10.0   16.0         14.0  38.793705  146.17313  \n",
       "554829    887.26434      9.0   15.0         13.0  19.712570  231.19466  \n",
       "\n",
       "[554830 rows x 12 columns]"
      ]
     },
     "execution_count": 2,
     "metadata": {},
     "output_type": "execute_result"
    }
   ],
   "source": [
    "file = pd.read_csv(r'C:\\jupiter/оценка_категорий.csv', sep=',')\n",
    "file['Date'] = file['Date'].astype('datetime64[ns]')\n",
    "file"
   ]
  },
  {
   "cell_type": "markdown",
   "id": "c5b25a10",
   "metadata": {},
   "source": [
    "2) Сделайте визуальный анализ датасета. Как ведут себя метрики в динамике? Какие распределения в данных?"
   ]
  },
  {
   "cell_type": "code",
   "execution_count": 3,
   "id": "0fce4741",
   "metadata": {},
   "outputs": [
    {
     "data": {
      "text/html": [
       "<div>\n",
       "<style scoped>\n",
       "    .dataframe tbody tr th:only-of-type {\n",
       "        vertical-align: middle;\n",
       "    }\n",
       "\n",
       "    .dataframe tbody tr th {\n",
       "        vertical-align: top;\n",
       "    }\n",
       "\n",
       "    .dataframe thead th {\n",
       "        text-align: right;\n",
       "    }\n",
       "</style>\n",
       "<table border=\"1\" class=\"dataframe\">\n",
       "  <thead>\n",
       "    <tr style=\"text-align: right;\">\n",
       "      <th></th>\n",
       "      <th>rto</th>\n",
       "      <th>rto_do</th>\n",
       "      <th>cost</th>\n",
       "      <th>tickets</th>\n",
       "      <th>qty</th>\n",
       "      <th>clients_qty</th>\n",
       "      <th>avg_time</th>\n",
       "      <th>avg_price</th>\n",
       "    </tr>\n",
       "  </thead>\n",
       "  <tbody>\n",
       "    <tr>\n",
       "      <th>count</th>\n",
       "      <td>5.548300e+05</td>\n",
       "      <td>5.548300e+05</td>\n",
       "      <td>5.548300e+05</td>\n",
       "      <td>554830.000000</td>\n",
       "      <td>554830.000000</td>\n",
       "      <td>554830.000000</td>\n",
       "      <td>554830.000000</td>\n",
       "      <td>554830.000000</td>\n",
       "    </tr>\n",
       "    <tr>\n",
       "      <th>mean</th>\n",
       "      <td>3.023633e+04</td>\n",
       "      <td>3.287684e+04</td>\n",
       "      <td>8.342986e+03</td>\n",
       "      <td>38.002985</td>\n",
       "      <td>96.429566</td>\n",
       "      <td>68.301085</td>\n",
       "      <td>30.455690</td>\n",
       "      <td>260.548712</td>\n",
       "    </tr>\n",
       "    <tr>\n",
       "      <th>std</th>\n",
       "      <td>1.568078e+05</td>\n",
       "      <td>1.736932e+05</td>\n",
       "      <td>4.006773e+04</td>\n",
       "      <td>155.219092</td>\n",
       "      <td>371.638847</td>\n",
       "      <td>258.233812</td>\n",
       "      <td>7.828049</td>\n",
       "      <td>184.437236</td>\n",
       "    </tr>\n",
       "    <tr>\n",
       "      <th>min</th>\n",
       "      <td>0.000000e+00</td>\n",
       "      <td>0.000000e+00</td>\n",
       "      <td>0.000000e+00</td>\n",
       "      <td>1.000000</td>\n",
       "      <td>1.000000</td>\n",
       "      <td>1.000000</td>\n",
       "      <td>-5.904808</td>\n",
       "      <td>0.000000</td>\n",
       "    </tr>\n",
       "    <tr>\n",
       "      <th>25%</th>\n",
       "      <td>1.932988e+03</td>\n",
       "      <td>1.988910e+03</td>\n",
       "      <td>6.298533e+02</td>\n",
       "      <td>7.000000</td>\n",
       "      <td>11.000000</td>\n",
       "      <td>9.000000</td>\n",
       "      <td>24.361860</td>\n",
       "      <td>133.008345</td>\n",
       "    </tr>\n",
       "    <tr>\n",
       "      <th>50%</th>\n",
       "      <td>5.946900e+03</td>\n",
       "      <td>6.300675e+03</td>\n",
       "      <td>1.914333e+03</td>\n",
       "      <td>16.000000</td>\n",
       "      <td>31.000000</td>\n",
       "      <td>23.000000</td>\n",
       "      <td>28.794235</td>\n",
       "      <td>184.247595</td>\n",
       "    </tr>\n",
       "    <tr>\n",
       "      <th>75%</th>\n",
       "      <td>2.038193e+04</td>\n",
       "      <td>2.147949e+04</td>\n",
       "      <td>5.983669e+03</td>\n",
       "      <td>32.000000</td>\n",
       "      <td>82.000000</td>\n",
       "      <td>59.000000</td>\n",
       "      <td>38.262711</td>\n",
       "      <td>417.904778</td>\n",
       "    </tr>\n",
       "    <tr>\n",
       "      <th>max</th>\n",
       "      <td>1.138273e+07</td>\n",
       "      <td>1.260036e+07</td>\n",
       "      <td>2.756956e+06</td>\n",
       "      <td>8798.000000</td>\n",
       "      <td>20886.000000</td>\n",
       "      <td>13473.000000</td>\n",
       "      <td>72.115040</td>\n",
       "      <td>2422.620000</td>\n",
       "    </tr>\n",
       "  </tbody>\n",
       "</table>\n",
       "</div>"
      ],
      "text/plain": [
       "                rto        rto_do          cost        tickets            qty  \\\n",
       "count  5.548300e+05  5.548300e+05  5.548300e+05  554830.000000  554830.000000   \n",
       "mean   3.023633e+04  3.287684e+04  8.342986e+03      38.002985      96.429566   \n",
       "std    1.568078e+05  1.736932e+05  4.006773e+04     155.219092     371.638847   \n",
       "min    0.000000e+00  0.000000e+00  0.000000e+00       1.000000       1.000000   \n",
       "25%    1.932988e+03  1.988910e+03  6.298533e+02       7.000000      11.000000   \n",
       "50%    5.946900e+03  6.300675e+03  1.914333e+03      16.000000      31.000000   \n",
       "75%    2.038193e+04  2.147949e+04  5.983669e+03      32.000000      82.000000   \n",
       "max    1.138273e+07  1.260036e+07  2.756956e+06    8798.000000   20886.000000   \n",
       "\n",
       "         clients_qty       avg_time      avg_price  \n",
       "count  554830.000000  554830.000000  554830.000000  \n",
       "mean       68.301085      30.455690     260.548712  \n",
       "std       258.233812       7.828049     184.437236  \n",
       "min         1.000000      -5.904808       0.000000  \n",
       "25%         9.000000      24.361860     133.008345  \n",
       "50%        23.000000      28.794235     184.247595  \n",
       "75%        59.000000      38.262711     417.904778  \n",
       "max     13473.000000      72.115040    2422.620000  "
      ]
     },
     "execution_count": 3,
     "metadata": {},
     "output_type": "execute_result"
    }
   ],
   "source": [
    "file.describe()"
   ]
  },
  {
   "cell_type": "markdown",
   "id": "6ca6b696",
   "metadata": {},
   "source": [
    "Пропущенных значений нет:"
   ]
  },
  {
   "cell_type": "code",
   "execution_count": 4,
   "id": "f16b0bce",
   "metadata": {},
   "outputs": [
    {
     "data": {
      "text/plain": [
       "0"
      ]
     },
     "execution_count": 4,
     "metadata": {},
     "output_type": "execute_result"
    }
   ],
   "source": [
    "file.isna().any(axis=0).sum()"
   ]
  },
  {
   "cell_type": "code",
   "execution_count": 5,
   "id": "c57dd31c",
   "metadata": {},
   "outputs": [
    {
     "data": {
      "text/html": [
       "<div>\n",
       "<style scoped>\n",
       "    .dataframe tbody tr th:only-of-type {\n",
       "        vertical-align: middle;\n",
       "    }\n",
       "\n",
       "    .dataframe tbody tr th {\n",
       "        vertical-align: top;\n",
       "    }\n",
       "\n",
       "    .dataframe thead th {\n",
       "        text-align: right;\n",
       "    }\n",
       "</style>\n",
       "<table border=\"1\" class=\"dataframe\">\n",
       "  <thead>\n",
       "    <tr style=\"text-align: right;\">\n",
       "      <th></th>\n",
       "      <th>CityName</th>\n",
       "      <th>OrderSource</th>\n",
       "      <th>Category</th>\n",
       "    </tr>\n",
       "  </thead>\n",
       "  <tbody>\n",
       "    <tr>\n",
       "      <th>count</th>\n",
       "      <td>554830</td>\n",
       "      <td>554830</td>\n",
       "      <td>554830</td>\n",
       "    </tr>\n",
       "    <tr>\n",
       "      <th>unique</th>\n",
       "      <td>266</td>\n",
       "      <td>3</td>\n",
       "      <td>4</td>\n",
       "    </tr>\n",
       "    <tr>\n",
       "      <th>top</th>\n",
       "      <td>Москва</td>\n",
       "      <td>mp</td>\n",
       "      <td>пицца</td>\n",
       "    </tr>\n",
       "    <tr>\n",
       "      <th>freq</th>\n",
       "      <td>2172</td>\n",
       "      <td>192399</td>\n",
       "      <td>143804</td>\n",
       "    </tr>\n",
       "  </tbody>\n",
       "</table>\n",
       "</div>"
      ],
      "text/plain": [
       "       CityName OrderSource Category\n",
       "count    554830      554830   554830\n",
       "unique      266           3        4\n",
       "top      Москва          mp    пицца\n",
       "freq       2172      192399   143804"
      ]
     },
     "execution_count": 5,
     "metadata": {},
     "output_type": "execute_result"
    }
   ],
   "source": [
    "file.describe(include=['O'])"
   ]
  },
  {
   "cell_type": "code",
   "execution_count": 8,
   "id": "fdbc7385",
   "metadata": {},
   "outputs": [
    {
     "data": {
      "text/html": [
       "<div>\n",
       "<style scoped>\n",
       "    .dataframe tbody tr th:only-of-type {\n",
       "        vertical-align: middle;\n",
       "    }\n",
       "\n",
       "    .dataframe tbody tr th {\n",
       "        vertical-align: top;\n",
       "    }\n",
       "\n",
       "    .dataframe thead th {\n",
       "        text-align: right;\n",
       "    }\n",
       "</style>\n",
       "<table border=\"1\" class=\"dataframe\">\n",
       "  <thead>\n",
       "    <tr style=\"text-align: right;\">\n",
       "      <th></th>\n",
       "      <th>CityName</th>\n",
       "      <th>OrderSource</th>\n",
       "      <th>Category</th>\n",
       "      <th>rto</th>\n",
       "      <th>rto_do</th>\n",
       "      <th>cost</th>\n",
       "      <th>tickets</th>\n",
       "      <th>qty</th>\n",
       "      <th>clients_qty</th>\n",
       "      <th>avg_time</th>\n",
       "      <th>avg_price</th>\n",
       "      <th>month</th>\n",
       "    </tr>\n",
       "  </thead>\n",
       "  <tbody>\n",
       "    <tr>\n",
       "      <th>0</th>\n",
       "      <td>Абакан</td>\n",
       "      <td>mp</td>\n",
       "      <td>пицца</td>\n",
       "      <td>83118.110</td>\n",
       "      <td>83162.76</td>\n",
       "      <td>19535.96300</td>\n",
       "      <td>61.0</td>\n",
       "      <td>152.0</td>\n",
       "      <td>123.0</td>\n",
       "      <td>24.278042</td>\n",
       "      <td>546.82965</td>\n",
       "      <td>1</td>\n",
       "    </tr>\n",
       "    <tr>\n",
       "      <th>1</th>\n",
       "      <td>Абакан</td>\n",
       "      <td>mp</td>\n",
       "      <td>закуски</td>\n",
       "      <td>13115.895</td>\n",
       "      <td>12950.67</td>\n",
       "      <td>4141.10350</td>\n",
       "      <td>15.0</td>\n",
       "      <td>64.0</td>\n",
       "      <td>45.0</td>\n",
       "      <td>40.270145</td>\n",
       "      <td>204.93585</td>\n",
       "      <td>1</td>\n",
       "    </tr>\n",
       "    <tr>\n",
       "      <th>2</th>\n",
       "      <td>Абакан</td>\n",
       "      <td>mp</td>\n",
       "      <td>напитки</td>\n",
       "      <td>1862.760</td>\n",
       "      <td>2533.80</td>\n",
       "      <td>854.59930</td>\n",
       "      <td>9.0</td>\n",
       "      <td>20.0</td>\n",
       "      <td>22.0</td>\n",
       "      <td>37.050053</td>\n",
       "      <td>93.13800</td>\n",
       "      <td>1</td>\n",
       "    </tr>\n",
       "    <tr>\n",
       "      <th>3</th>\n",
       "      <td>Абакан</td>\n",
       "      <td>mp</td>\n",
       "      <td>десерты</td>\n",
       "      <td>5002.620</td>\n",
       "      <td>5498.10</td>\n",
       "      <td>1668.68640</td>\n",
       "      <td>8.0</td>\n",
       "      <td>25.0</td>\n",
       "      <td>26.0</td>\n",
       "      <td>26.467460</td>\n",
       "      <td>200.10480</td>\n",
       "      <td>1</td>\n",
       "    </tr>\n",
       "    <tr>\n",
       "      <th>4</th>\n",
       "      <td>Абакан</td>\n",
       "      <td>other</td>\n",
       "      <td>пицца</td>\n",
       "      <td>26653.980</td>\n",
       "      <td>25875.51</td>\n",
       "      <td>5532.26600</td>\n",
       "      <td>28.0</td>\n",
       "      <td>44.0</td>\n",
       "      <td>28.0</td>\n",
       "      <td>19.206177</td>\n",
       "      <td>605.77230</td>\n",
       "      <td>1</td>\n",
       "    </tr>\n",
       "    <tr>\n",
       "      <th>...</th>\n",
       "      <td>...</td>\n",
       "      <td>...</td>\n",
       "      <td>...</td>\n",
       "      <td>...</td>\n",
       "      <td>...</td>\n",
       "      <td>...</td>\n",
       "      <td>...</td>\n",
       "      <td>...</td>\n",
       "      <td>...</td>\n",
       "      <td>...</td>\n",
       "      <td>...</td>\n",
       "      <td>...</td>\n",
       "    </tr>\n",
       "    <tr>\n",
       "      <th>554825</th>\n",
       "      <td>Якутск</td>\n",
       "      <td>other</td>\n",
       "      <td>десерты</td>\n",
       "      <td>24850.560</td>\n",
       "      <td>23694.72</td>\n",
       "      <td>7158.75300</td>\n",
       "      <td>37.0</td>\n",
       "      <td>144.0</td>\n",
       "      <td>116.0</td>\n",
       "      <td>30.411177</td>\n",
       "      <td>172.57333</td>\n",
       "      <td>6</td>\n",
       "    </tr>\n",
       "    <tr>\n",
       "      <th>554826</th>\n",
       "      <td>Якутск</td>\n",
       "      <td>web</td>\n",
       "      <td>пицца</td>\n",
       "      <td>57024.940</td>\n",
       "      <td>62091.63</td>\n",
       "      <td>12972.71300</td>\n",
       "      <td>71.0</td>\n",
       "      <td>91.0</td>\n",
       "      <td>71.0</td>\n",
       "      <td>27.292700</td>\n",
       "      <td>626.64770</td>\n",
       "      <td>6</td>\n",
       "    </tr>\n",
       "    <tr>\n",
       "      <th>554827</th>\n",
       "      <td>Якутск</td>\n",
       "      <td>web</td>\n",
       "      <td>закуски</td>\n",
       "      <td>16345.990</td>\n",
       "      <td>15859.62</td>\n",
       "      <td>4398.22270</td>\n",
       "      <td>32.0</td>\n",
       "      <td>60.0</td>\n",
       "      <td>36.0</td>\n",
       "      <td>38.035316</td>\n",
       "      <td>272.43317</td>\n",
       "      <td>6</td>\n",
       "    </tr>\n",
       "    <tr>\n",
       "      <th>554828</th>\n",
       "      <td>Якутск</td>\n",
       "      <td>web</td>\n",
       "      <td>напитки</td>\n",
       "      <td>2338.770</td>\n",
       "      <td>2229.99</td>\n",
       "      <td>754.17480</td>\n",
       "      <td>10.0</td>\n",
       "      <td>16.0</td>\n",
       "      <td>14.0</td>\n",
       "      <td>38.793705</td>\n",
       "      <td>146.17313</td>\n",
       "      <td>6</td>\n",
       "    </tr>\n",
       "    <tr>\n",
       "      <th>554829</th>\n",
       "      <td>Якутск</td>\n",
       "      <td>web</td>\n",
       "      <td>десерты</td>\n",
       "      <td>3467.920</td>\n",
       "      <td>3404.64</td>\n",
       "      <td>887.26434</td>\n",
       "      <td>9.0</td>\n",
       "      <td>15.0</td>\n",
       "      <td>13.0</td>\n",
       "      <td>19.712570</td>\n",
       "      <td>231.19466</td>\n",
       "      <td>6</td>\n",
       "    </tr>\n",
       "  </tbody>\n",
       "</table>\n",
       "<p>554830 rows × 12 columns</p>\n",
       "</div>"
      ],
      "text/plain": [
       "       CityName OrderSource Category        rto    rto_do         cost  \\\n",
       "0        Абакан          mp    пицца  83118.110  83162.76  19535.96300   \n",
       "1        Абакан          mp  закуски  13115.895  12950.67   4141.10350   \n",
       "2        Абакан          mp  напитки   1862.760   2533.80    854.59930   \n",
       "3        Абакан          mp  десерты   5002.620   5498.10   1668.68640   \n",
       "4        Абакан       other    пицца  26653.980  25875.51   5532.26600   \n",
       "...         ...         ...      ...        ...       ...          ...   \n",
       "554825   Якутск       other  десерты  24850.560  23694.72   7158.75300   \n",
       "554826   Якутск         web    пицца  57024.940  62091.63  12972.71300   \n",
       "554827   Якутск         web  закуски  16345.990  15859.62   4398.22270   \n",
       "554828   Якутск         web  напитки   2338.770   2229.99    754.17480   \n",
       "554829   Якутск         web  десерты   3467.920   3404.64    887.26434   \n",
       "\n",
       "        tickets    qty  clients_qty   avg_time  avg_price  month  \n",
       "0          61.0  152.0        123.0  24.278042  546.82965      1  \n",
       "1          15.0   64.0         45.0  40.270145  204.93585      1  \n",
       "2           9.0   20.0         22.0  37.050053   93.13800      1  \n",
       "3           8.0   25.0         26.0  26.467460  200.10480      1  \n",
       "4          28.0   44.0         28.0  19.206177  605.77230      1  \n",
       "...         ...    ...          ...        ...        ...    ...  \n",
       "554825     37.0  144.0        116.0  30.411177  172.57333      6  \n",
       "554826     71.0   91.0         71.0  27.292700  626.64770      6  \n",
       "554827     32.0   60.0         36.0  38.035316  272.43317      6  \n",
       "554828     10.0   16.0         14.0  38.793705  146.17313      6  \n",
       "554829      9.0   15.0         13.0  19.712570  231.19466      6  \n",
       "\n",
       "[554830 rows x 12 columns]"
      ]
     },
     "execution_count": 8,
     "metadata": {},
     "output_type": "execute_result"
    }
   ],
   "source": [
    "file_1 = file.copy()\n",
    "file_1['month'] = pd.DatetimeIndex(file_1['Date']).month\n",
    "file_1 = file_1.drop(['Date'],axis = 1)\n",
    "file_1"
   ]
  },
  {
   "cell_type": "code",
   "execution_count": 11,
   "id": "094c6360",
   "metadata": {},
   "outputs": [
    {
     "data": {
      "text/html": [
       "<div>\n",
       "<style scoped>\n",
       "    .dataframe tbody tr th:only-of-type {\n",
       "        vertical-align: middle;\n",
       "    }\n",
       "\n",
       "    .dataframe tbody tr th {\n",
       "        vertical-align: top;\n",
       "    }\n",
       "\n",
       "    .dataframe thead th {\n",
       "        text-align: right;\n",
       "    }\n",
       "</style>\n",
       "<table border=\"1\" class=\"dataframe\">\n",
       "  <thead>\n",
       "    <tr style=\"text-align: right;\">\n",
       "      <th></th>\n",
       "      <th>rto</th>\n",
       "      <th>rto_do</th>\n",
       "      <th>cost</th>\n",
       "      <th>tickets</th>\n",
       "      <th>qty</th>\n",
       "      <th>clients_qty</th>\n",
       "      <th>avg_time</th>\n",
       "      <th>avg_price</th>\n",
       "    </tr>\n",
       "    <tr>\n",
       "      <th>month</th>\n",
       "      <th></th>\n",
       "      <th></th>\n",
       "      <th></th>\n",
       "      <th></th>\n",
       "      <th></th>\n",
       "      <th></th>\n",
       "      <th></th>\n",
       "      <th></th>\n",
       "    </tr>\n",
       "  </thead>\n",
       "  <tbody>\n",
       "    <tr>\n",
       "      <th>1</th>\n",
       "      <td>28157.079707</td>\n",
       "      <td>30124.630920</td>\n",
       "      <td>7197.524137</td>\n",
       "      <td>35.477559</td>\n",
       "      <td>86.414194</td>\n",
       "      <td>60.823675</td>\n",
       "      <td>30.565743</td>\n",
       "      <td>256.499081</td>\n",
       "    </tr>\n",
       "    <tr>\n",
       "      <th>2</th>\n",
       "      <td>29195.247225</td>\n",
       "      <td>31651.455107</td>\n",
       "      <td>7703.272493</td>\n",
       "      <td>36.678605</td>\n",
       "      <td>91.835993</td>\n",
       "      <td>63.953753</td>\n",
       "      <td>30.579221</td>\n",
       "      <td>253.638517</td>\n",
       "    </tr>\n",
       "    <tr>\n",
       "      <th>3</th>\n",
       "      <td>28295.563429</td>\n",
       "      <td>30689.529180</td>\n",
       "      <td>7807.962342</td>\n",
       "      <td>35.864507</td>\n",
       "      <td>89.293633</td>\n",
       "      <td>62.221261</td>\n",
       "      <td>30.602887</td>\n",
       "      <td>261.359121</td>\n",
       "    </tr>\n",
       "    <tr>\n",
       "      <th>4</th>\n",
       "      <td>30373.576467</td>\n",
       "      <td>33147.800856</td>\n",
       "      <td>8712.653801</td>\n",
       "      <td>38.080879</td>\n",
       "      <td>97.024411</td>\n",
       "      <td>68.922585</td>\n",
       "      <td>30.177598</td>\n",
       "      <td>262.889433</td>\n",
       "    </tr>\n",
       "    <tr>\n",
       "      <th>5</th>\n",
       "      <td>33416.110403</td>\n",
       "      <td>36563.537411</td>\n",
       "      <td>9609.956113</td>\n",
       "      <td>41.271744</td>\n",
       "      <td>108.743467</td>\n",
       "      <td>77.736485</td>\n",
       "      <td>30.251867</td>\n",
       "      <td>264.038868</td>\n",
       "    </tr>\n",
       "    <tr>\n",
       "      <th>6</th>\n",
       "      <td>31898.067597</td>\n",
       "      <td>34993.864774</td>\n",
       "      <td>8979.373610</td>\n",
       "      <td>40.555447</td>\n",
       "      <td>104.943815</td>\n",
       "      <td>75.857288</td>\n",
       "      <td>30.565599</td>\n",
       "      <td>264.338232</td>\n",
       "    </tr>\n",
       "  </tbody>\n",
       "</table>\n",
       "</div>"
      ],
      "text/plain": [
       "                rto        rto_do         cost    tickets         qty  \\\n",
       "month                                                                   \n",
       "1      28157.079707  30124.630920  7197.524137  35.477559   86.414194   \n",
       "2      29195.247225  31651.455107  7703.272493  36.678605   91.835993   \n",
       "3      28295.563429  30689.529180  7807.962342  35.864507   89.293633   \n",
       "4      30373.576467  33147.800856  8712.653801  38.080879   97.024411   \n",
       "5      33416.110403  36563.537411  9609.956113  41.271744  108.743467   \n",
       "6      31898.067597  34993.864774  8979.373610  40.555447  104.943815   \n",
       "\n",
       "       clients_qty   avg_time   avg_price  \n",
       "month                                      \n",
       "1        60.823675  30.565743  256.499081  \n",
       "2        63.953753  30.579221  253.638517  \n",
       "3        62.221261  30.602887  261.359121  \n",
       "4        68.922585  30.177598  262.889433  \n",
       "5        77.736485  30.251867  264.038868  \n",
       "6        75.857288  30.565599  264.338232  "
      ]
     },
     "execution_count": 11,
     "metadata": {},
     "output_type": "execute_result"
    }
   ],
   "source": [
    "file_1 = file_1.groupby(by = 'month').mean()\n",
    "file_1"
   ]
  },
  {
   "cell_type": "code",
   "execution_count": 10,
   "id": "7fbcba40",
   "metadata": {},
   "outputs": [
    {
     "data": {
      "image/png": "[encoded data removed]",
      "text/plain": [
       "<Figure size 1800x2160 with 8 Axes>"
      ]
     },
     "metadata": {
      "needs_background": "light"
     },
     "output_type": "display_data"
    }
   ],
   "source": [
    "plt.figure(figsize=(25, 30))\n",
    "plot_id=1\n",
    "for feature in list(file_1.columns):\n",
    "    plt.subplot(np.ceil(len(list(file_1.columns)) / 3),3,plot_id)\n",
    "    sns.lineplot(data=file_1, x=file_1.index, y=feature)\n",
    "    plt.title(feature )\n",
    "    plt.xlabel(\"\")\n",
    "    plot_id+=1\n",
    "plt.show()"
   ]
  },
  {
   "cell_type": "markdown",
   "id": "5f695deb",
   "metadata": {},
   "source": [
    "Логичным выглядит падение в феврале марте из за мировой ситуации, также дальнейший рост основных показателей из за закрытия основных сетей фастфуда"
   ]
  },
  {
   "cell_type": "markdown",
   "id": "558dbbcd",
   "metadata": {},
   "source": [
    "Как можно оценить эффект от теста? "
   ]
  },
  {
   "cell_type": "markdown",
   "id": "52b3d183",
   "metadata": {},
   "source": [
    "Выбираем тестовую выборку"
   ]
  },
  {
   "cell_type": "code",
   "execution_count": 3,
   "id": "c590ea97",
   "metadata": {},
   "outputs": [],
   "source": [
    "sp = ['Пенза', 'Уфа', 'Курск', 'Нижний Тагил', 'Новокуйбышевск', 'Орск']"
   ]
  },
  {
   "cell_type": "code",
   "execution_count": 4,
   "id": "5cf242da",
   "metadata": {},
   "outputs": [
    {
     "data": {
      "text/html": [
       "<div>\n",
       "<style scoped>\n",
       "    .dataframe tbody tr th:only-of-type {\n",
       "        vertical-align: middle;\n",
       "    }\n",
       "\n",
       "    .dataframe tbody tr th {\n",
       "        vertical-align: top;\n",
       "    }\n",
       "\n",
       "    .dataframe thead th {\n",
       "        text-align: right;\n",
       "    }\n",
       "</style>\n",
       "<table border=\"1\" class=\"dataframe\">\n",
       "  <thead>\n",
       "    <tr style=\"text-align: right;\">\n",
       "      <th></th>\n",
       "      <th>Date</th>\n",
       "      <th>CityName</th>\n",
       "      <th>OrderSource</th>\n",
       "      <th>Category</th>\n",
       "      <th>rto</th>\n",
       "      <th>rto_do</th>\n",
       "      <th>cost</th>\n",
       "      <th>tickets</th>\n",
       "      <th>qty</th>\n",
       "      <th>clients_qty</th>\n",
       "      <th>avg_time</th>\n",
       "      <th>avg_price</th>\n",
       "    </tr>\n",
       "  </thead>\n",
       "  <tbody>\n",
       "    <tr>\n",
       "      <th>297763</th>\n",
       "      <td>2022-04-08</td>\n",
       "      <td>Курск</td>\n",
       "      <td>web</td>\n",
       "      <td>пицца</td>\n",
       "      <td>36642.09</td>\n",
       "      <td>38191.5</td>\n",
       "      <td>8940.428</td>\n",
       "      <td>47.0</td>\n",
       "      <td>62.0</td>\n",
       "      <td>52.0</td>\n",
       "      <td>19.036901</td>\n",
       "      <td>591.00140</td>\n",
       "    </tr>\n",
       "    <tr>\n",
       "      <th>298199</th>\n",
       "      <td>2022-04-08</td>\n",
       "      <td>Нижний Тагил</td>\n",
       "      <td>web</td>\n",
       "      <td>пицца</td>\n",
       "      <td>45339.63</td>\n",
       "      <td>49827.3</td>\n",
       "      <td>12482.731</td>\n",
       "      <td>71.0</td>\n",
       "      <td>92.0</td>\n",
       "      <td>62.0</td>\n",
       "      <td>16.524553</td>\n",
       "      <td>492.82205</td>\n",
       "    </tr>\n",
       "  </tbody>\n",
       "</table>\n",
       "</div>"
      ],
      "text/plain": [
       "             Date      CityName OrderSource Category       rto   rto_do  \\\n",
       "297763 2022-04-08         Курск         web    пицца  36642.09  38191.5   \n",
       "298199 2022-04-08  Нижний Тагил         web    пицца  45339.63  49827.3   \n",
       "\n",
       "             cost  tickets   qty  clients_qty   avg_time  avg_price  \n",
       "297763   8940.428     47.0  62.0         52.0  19.036901  591.00140  \n",
       "298199  12482.731     71.0  92.0         62.0  16.524553  492.82205  "
      ]
     },
     "execution_count": 4,
     "metadata": {},
     "output_type": "execute_result"
    }
   ],
   "source": [
    "file_test = file.loc[(file['CityName'].isin(sp))&(file['Date']>'2022-04-07')&(file['Date']<'2022-05-19')&(file['Category']=='пицца')&(file['OrderSource']=='web')]\n",
    "file_test.head(2)"
   ]
  },
  {
   "cell_type": "markdown",
   "id": "252f9c7f",
   "metadata": {},
   "source": [
    "Выираем период такой же длины который был до нашего теста"
   ]
  },
  {
   "cell_type": "code",
   "execution_count": 5,
   "id": "b1348edc",
   "metadata": {},
   "outputs": [
    {
     "data": {
      "text/html": [
       "<div>\n",
       "<style scoped>\n",
       "    .dataframe tbody tr th:only-of-type {\n",
       "        vertical-align: middle;\n",
       "    }\n",
       "\n",
       "    .dataframe tbody tr th {\n",
       "        vertical-align: top;\n",
       "    }\n",
       "\n",
       "    .dataframe thead th {\n",
       "        text-align: right;\n",
       "    }\n",
       "</style>\n",
       "<table border=\"1\" class=\"dataframe\">\n",
       "  <thead>\n",
       "    <tr style=\"text-align: right;\">\n",
       "      <th></th>\n",
       "      <th>Date</th>\n",
       "      <th>CityName</th>\n",
       "      <th>OrderSource</th>\n",
       "      <th>Category</th>\n",
       "      <th>rto</th>\n",
       "      <th>rto_do</th>\n",
       "      <th>cost</th>\n",
       "      <th>tickets</th>\n",
       "      <th>qty</th>\n",
       "      <th>clients_qty</th>\n",
       "      <th>avg_time</th>\n",
       "      <th>avg_price</th>\n",
       "    </tr>\n",
       "  </thead>\n",
       "  <tbody>\n",
       "    <tr>\n",
       "      <th>166264</th>\n",
       "      <td>2022-02-24</td>\n",
       "      <td>Курск</td>\n",
       "      <td>web</td>\n",
       "      <td>пицца</td>\n",
       "      <td>19726.68</td>\n",
       "      <td>19521.33</td>\n",
       "      <td>4092.9202</td>\n",
       "      <td>25.0</td>\n",
       "      <td>32.0</td>\n",
       "      <td>28.0</td>\n",
       "      <td>21.050837</td>\n",
       "      <td>616.45874</td>\n",
       "    </tr>\n",
       "    <tr>\n",
       "      <th>166706</th>\n",
       "      <td>2022-02-24</td>\n",
       "      <td>Нижний Тагил</td>\n",
       "      <td>web</td>\n",
       "      <td>пицца</td>\n",
       "      <td>22576.29</td>\n",
       "      <td>23309.73</td>\n",
       "      <td>5081.1300</td>\n",
       "      <td>33.0</td>\n",
       "      <td>48.0</td>\n",
       "      <td>36.0</td>\n",
       "      <td>27.474297</td>\n",
       "      <td>470.33940</td>\n",
       "    </tr>\n",
       "  </tbody>\n",
       "</table>\n",
       "</div>"
      ],
      "text/plain": [
       "             Date      CityName OrderSource Category       rto    rto_do  \\\n",
       "166264 2022-02-24         Курск         web    пицца  19726.68  19521.33   \n",
       "166706 2022-02-24  Нижний Тагил         web    пицца  22576.29  23309.73   \n",
       "\n",
       "             cost  tickets   qty  clients_qty   avg_time  avg_price  \n",
       "166264  4092.9202     25.0  32.0         28.0  21.050837  616.45874  \n",
       "166706  5081.1300     33.0  48.0         36.0  27.474297  470.33940  "
      ]
     },
     "execution_count": 5,
     "metadata": {},
     "output_type": "execute_result"
    }
   ],
   "source": [
    "file_test_before = file.loc[(file['CityName'].isin(sp))&(file['Date']>'2022-02-23')&(file['Date']<'2022-04-06')&(file['Category']=='пицца')&(file['OrderSource']=='web')]\n",
    "file_test_before.head(2)"
   ]
  },
  {
   "cell_type": "markdown",
   "id": "ea9571cc",
   "metadata": {},
   "source": [
    "Контрольная"
   ]
  },
  {
   "cell_type": "code",
   "execution_count": 6,
   "id": "50359167",
   "metadata": {},
   "outputs": [
    {
     "data": {
      "text/html": [
       "<div>\n",
       "<style scoped>\n",
       "    .dataframe tbody tr th:only-of-type {\n",
       "        vertical-align: middle;\n",
       "    }\n",
       "\n",
       "    .dataframe tbody tr th {\n",
       "        vertical-align: top;\n",
       "    }\n",
       "\n",
       "    .dataframe thead th {\n",
       "        text-align: right;\n",
       "    }\n",
       "</style>\n",
       "<table border=\"1\" class=\"dataframe\">\n",
       "  <thead>\n",
       "    <tr style=\"text-align: right;\">\n",
       "      <th></th>\n",
       "      <th>Date</th>\n",
       "      <th>CityName</th>\n",
       "      <th>OrderSource</th>\n",
       "      <th>Category</th>\n",
       "      <th>rto</th>\n",
       "      <th>rto_do</th>\n",
       "      <th>cost</th>\n",
       "      <th>tickets</th>\n",
       "      <th>qty</th>\n",
       "      <th>clients_qty</th>\n",
       "      <th>avg_time</th>\n",
       "      <th>avg_price</th>\n",
       "    </tr>\n",
       "  </thead>\n",
       "  <tbody>\n",
       "    <tr>\n",
       "      <th>296439</th>\n",
       "      <td>2022-04-08</td>\n",
       "      <td>Абакан</td>\n",
       "      <td>web</td>\n",
       "      <td>пицца</td>\n",
       "      <td>27949.14</td>\n",
       "      <td>26649.18</td>\n",
       "      <td>6805.6562</td>\n",
       "      <td>32.0</td>\n",
       "      <td>44.0</td>\n",
       "      <td>39.0</td>\n",
       "      <td>19.431475</td>\n",
       "      <td>635.2077</td>\n",
       "    </tr>\n",
       "    <tr>\n",
       "      <th>296451</th>\n",
       "      <td>2022-04-08</td>\n",
       "      <td>Абинск</td>\n",
       "      <td>web</td>\n",
       "      <td>пицца</td>\n",
       "      <td>7435.56</td>\n",
       "      <td>8537.43</td>\n",
       "      <td>2422.0234</td>\n",
       "      <td>16.0</td>\n",
       "      <td>20.0</td>\n",
       "      <td>12.0</td>\n",
       "      <td>27.543120</td>\n",
       "      <td>371.7780</td>\n",
       "    </tr>\n",
       "  </tbody>\n",
       "</table>\n",
       "</div>"
      ],
      "text/plain": [
       "             Date CityName OrderSource Category       rto    rto_do  \\\n",
       "296439 2022-04-08   Абакан         web    пицца  27949.14  26649.18   \n",
       "296451 2022-04-08   Абинск         web    пицца   7435.56   8537.43   \n",
       "\n",
       "             cost  tickets   qty  clients_qty   avg_time  avg_price  \n",
       "296439  6805.6562     32.0  44.0         39.0  19.431475   635.2077  \n",
       "296451  2422.0234     16.0  20.0         12.0  27.543120   371.7780  "
      ]
     },
     "execution_count": 6,
     "metadata": {},
     "output_type": "execute_result"
    }
   ],
   "source": [
    "file_cntrl = file.loc[(~file['CityName'].isin(sp))&(file['Date']>'2022-04-07')&(file['Date']<'2022-05-19')&(file['Category']=='пицца')&(file['OrderSource']=='web')]\n",
    "file_cntrl.head(2)"
   ]
  },
  {
   "cell_type": "code",
   "execution_count": 7,
   "id": "37d1bbea",
   "metadata": {},
   "outputs": [
    {
     "data": {
      "text/html": [
       "<div>\n",
       "<style scoped>\n",
       "    .dataframe tbody tr th:only-of-type {\n",
       "        vertical-align: middle;\n",
       "    }\n",
       "\n",
       "    .dataframe tbody tr th {\n",
       "        vertical-align: top;\n",
       "    }\n",
       "\n",
       "    .dataframe thead th {\n",
       "        text-align: right;\n",
       "    }\n",
       "</style>\n",
       "<table border=\"1\" class=\"dataframe\">\n",
       "  <thead>\n",
       "    <tr style=\"text-align: right;\">\n",
       "      <th></th>\n",
       "      <th>Date</th>\n",
       "      <th>CityName</th>\n",
       "      <th>OrderSource</th>\n",
       "      <th>Category</th>\n",
       "      <th>rto</th>\n",
       "      <th>rto_do</th>\n",
       "      <th>cost</th>\n",
       "      <th>tickets</th>\n",
       "      <th>qty</th>\n",
       "      <th>clients_qty</th>\n",
       "      <th>avg_time</th>\n",
       "      <th>avg_price</th>\n",
       "    </tr>\n",
       "  </thead>\n",
       "  <tbody>\n",
       "    <tr>\n",
       "      <th>164974</th>\n",
       "      <td>2022-02-24</td>\n",
       "      <td>Абакан</td>\n",
       "      <td>web</td>\n",
       "      <td>пицца</td>\n",
       "      <td>22792.998</td>\n",
       "      <td>23153.52</td>\n",
       "      <td>5489.5195</td>\n",
       "      <td>26.0</td>\n",
       "      <td>36.0</td>\n",
       "      <td>20.0</td>\n",
       "      <td>24.632868</td>\n",
       "      <td>633.1388</td>\n",
       "    </tr>\n",
       "    <tr>\n",
       "      <th>164986</th>\n",
       "      <td>2022-02-24</td>\n",
       "      <td>Абинск</td>\n",
       "      <td>web</td>\n",
       "      <td>пицца</td>\n",
       "      <td>3845.490</td>\n",
       "      <td>4213.98</td>\n",
       "      <td>1061.5420</td>\n",
       "      <td>7.0</td>\n",
       "      <td>10.0</td>\n",
       "      <td>7.0</td>\n",
       "      <td>22.416098</td>\n",
       "      <td>384.5490</td>\n",
       "    </tr>\n",
       "  </tbody>\n",
       "</table>\n",
       "</div>"
      ],
      "text/plain": [
       "             Date CityName OrderSource Category        rto    rto_do  \\\n",
       "164974 2022-02-24   Абакан         web    пицца  22792.998  23153.52   \n",
       "164986 2022-02-24   Абинск         web    пицца   3845.490   4213.98   \n",
       "\n",
       "             cost  tickets   qty  clients_qty   avg_time  avg_price  \n",
       "164974  5489.5195     26.0  36.0         20.0  24.632868   633.1388  \n",
       "164986  1061.5420      7.0  10.0          7.0  22.416098   384.5490  "
      ]
     },
     "execution_count": 7,
     "metadata": {},
     "output_type": "execute_result"
    }
   ],
   "source": [
    "file_cntrl_before = file.loc[(~file['CityName'].isin(sp))&(file['Date']>'2022-02-23')&(file['Date']<'2022-04-06')&(file['Category']=='пицца')&(file['OrderSource']=='web')]\n",
    "file_cntrl_before.head(2)"
   ]
  },
  {
   "cell_type": "markdown",
   "id": "466d7f30",
   "metadata": {},
   "source": [
    "В контрольной выборке выберем только те города, в которых полное число строк за периоды"
   ]
  },
  {
   "cell_type": "code",
   "execution_count": 8,
   "id": "b1748f3b",
   "metadata": {},
   "outputs": [],
   "source": [
    "q_b = pd.DataFrame(file_cntrl_before.CityName.value_counts())\n",
    "q = pd.DataFrame(file_cntrl.CityName.value_counts())\n",
    "q = q.loc[q['CityName']==41]\n",
    "q = q.loc[q_b['CityName']==41]\n",
    "q = set(q.index)\n",
    "q_b = set(q_b.index)\n",
    "rz = list(q&q_b)\n",
    "file_cntrl = file_cntrl.loc[(file_cntrl['CityName'].isin(rz))]\n",
    "file_cntrl_before = file_cntrl_before.loc[(file_cntrl_before['CityName'].isin(rz))]"
   ]
  },
  {
   "cell_type": "code",
   "execution_count": 9,
   "id": "669022ba",
   "metadata": {},
   "outputs": [
    {
     "data": {
      "text/plain": [
       "array(['Абакан', 'Азов', 'Аксай Россия', 'Александров', 'Альметьевск',\n",
       "       'Анапа', 'Ангарск', 'Апатиты', 'Апрелевка', 'Архангельск',\n",
       "       'Астрахань', 'Балаково', 'Балашиха', 'Барнаул', 'Батайск',\n",
       "       'Бердск', 'Березники', 'Благовещенск', 'Братск', 'Брянск',\n",
       "       'Бугульма', 'Великий Новгород', 'Видное', 'Владивосток',\n",
       "       'Владикавказ', 'Владимир', 'Волгоград', 'Волжский', 'Вологда',\n",
       "       'Волхов', 'Воронеж', 'Воскресенск', 'Воткинск', 'Всеволожск',\n",
       "       'Выборг', 'Вышний Волочек', 'Вязьма', 'Геленджик', 'Голицыно',\n",
       "       'Горно-Алтайск', 'Губкин', 'Дедовск', 'Дзержинск', 'Дмитров',\n",
       "       'Долгопрудный', 'Домодедово', 'Дубна', 'Екатеринбург', 'Ессентуки',\n",
       "       'Железнодорожный', 'Жуковский', 'Звенигород', 'Зеленоград',\n",
       "       'Златоуст', 'Иваново', 'Ивантеевка', 'Ижевск', 'Иркутск', 'Истра',\n",
       "       'Йошкар-Ола', 'Казань', 'Калининград', 'Калуга',\n",
       "       'Каменск-Уральский', 'Каменск-Шахтинский', 'Камышин', 'Кемерово',\n",
       "       'Кингисепп', 'Кириши', 'Киров', 'Клин', 'Ковров', 'Когалым',\n",
       "       'Коломна', 'Колпино', 'Коммунарка', 'Комсомольск-на-Амуре',\n",
       "       'Королев', 'Красногорск', 'Краснодар', 'Красное Село',\n",
       "       'Красноярск', 'Кронштадт', 'Кстово', 'Кубинка', 'Кудрово',\n",
       "       'Курган', 'Ленинск-Кузнецкий', 'Ликино-Дулево', 'Липецк', 'Лобня',\n",
       "       'Луга', 'Люберцы', 'Лянтор', 'Магнитогорск', 'Майкоп', 'Махачкала',\n",
       "       'Миасс', 'Можайск', 'Москва', 'Московский', 'Мурино', 'Мурманск',\n",
       "       'Муром', 'Мытищи', 'Набережные Челны', 'Надым', 'Наро-Фоминск',\n",
       "       'Нахабино', 'Находка', 'Нефтеюганск', 'Нижневартовск',\n",
       "       'Нижнекамск', 'Нижний Новгород', 'Никольское', 'Новокузнецк',\n",
       "       'Новороссийск', 'Новосибирск', 'Новоуральск', 'Новочеркасск',\n",
       "       'Новый Уренгой', 'Ногинск', 'Ноябрьск', 'Нягань', 'Обнинск',\n",
       "       'Одинцово', 'Октябрьский', 'Омск', 'Орел', 'Оренбург',\n",
       "       'Орехово-Зуево', 'Парголово', 'Пермь', 'Петергоф', 'Петрозаводск',\n",
       "       'Подольск', 'Псков', 'Пушкин', 'Пушкино', 'Пятигорск', 'Раменское',\n",
       "       'Рассказовка', 'Реутов', 'Ростов-на-Дону', 'Рыбинск', 'Рязань',\n",
       "       'Салават', 'Самара', 'Санкт-Петербург', 'Саранск', 'Сарапул',\n",
       "       'Саратов', 'Саров', 'Северодвинск', 'Северск', 'Серпухов',\n",
       "       'Сертолово', 'Славянка', 'Смоленск', 'Солнечногорск',\n",
       "       'Сосновый Бор', 'Сочи', 'Ставрополь', 'Старая Купавна',\n",
       "       'Старый Оскол', 'Стерлитамак', 'Стрежевой', 'Ступино', 'Сургут',\n",
       "       'Сызрань', 'Сыктывкар', 'Таганрог', 'Тамбов', 'Тверь', 'Тобольск',\n",
       "       'Тольятти', 'Томск', 'Торжок', 'Тосно', 'Троицк', 'Тула', 'Тюмень',\n",
       "       'Улан-Удэ', 'Ульяновск', 'Урай', 'Усинск', 'Усолье-Сибирское',\n",
       "       'Уссурийск', 'Ухта', 'Фрязино', 'Хабаровск', 'Ханты-Мансийск',\n",
       "       'Химки', 'Хотьково', 'Чайковский', 'Чебоксары', 'Челябинск',\n",
       "       'Череповец', 'Чита', 'Шатура', 'Шлиссельбург', 'Шушары', 'Щелково',\n",
       "       'Щербинка', 'Электросталь', 'Энгельс', 'Югорск', 'Южно-Сахалинск',\n",
       "       'Якутск'], dtype=object)"
      ]
     },
     "execution_count": 9,
     "metadata": {},
     "output_type": "execute_result"
    }
   ],
   "source": [
    "file_cntrl_before.CityName.unique()"
   ]
  },
  {
   "cell_type": "markdown",
   "id": "fb2c0a7b",
   "metadata": {},
   "source": [
    "Выберем такое же число городов, как и в тестовой выборке"
   ]
  },
  {
   "cell_type": "code",
   "execution_count": 10,
   "id": "3d476934",
   "metadata": {},
   "outputs": [],
   "source": [
    "spisok = ['Ростов-на-Дону', 'Рыбинск', 'Рязань',\n",
    "       'Салават', 'Самара', 'Санкт-Петербург']"
   ]
  },
  {
   "cell_type": "code",
   "execution_count": 11,
   "id": "6839ac54",
   "metadata": {},
   "outputs": [],
   "source": [
    "file_cntrl = file_cntrl.loc[(file_cntrl['CityName'].isin(spisok))]\n",
    "file_cntrl_before = file_cntrl_before.loc[(file_cntrl_before['CityName'].isin(spisok))]  "
   ]
  },
  {
   "cell_type": "markdown",
   "id": "d6d4a31e",
   "metadata": {},
   "source": [
    "Подготовимся к АБ тесту"
   ]
  },
  {
   "cell_type": "markdown",
   "id": "ca8c821e",
   "metadata": {},
   "source": [
    "Выберем парметр который будем анализировать"
   ]
  },
  {
   "cell_type": "code",
   "execution_count": 12,
   "id": "985f89af",
   "metadata": {},
   "outputs": [],
   "source": [
    "param = 'tickets'"
   ]
  },
  {
   "cell_type": "code",
   "execution_count": 13,
   "id": "d4451db3",
   "metadata": {},
   "outputs": [],
   "source": [
    "def prepate_ab(data,param,before = False):\n",
    "    file_test_X = data[['Date','CityName',param]]\n",
    "    if before:\n",
    "        file_test_X = file_test_X.rename(columns = {param:f'{param}_before'})\n",
    "    file_test_X = file_test_X.reset_index(drop = True).reset_index()\n",
    "    return file_test_X"
   ]
  },
  {
   "cell_type": "code",
   "execution_count": 14,
   "id": "2f56c450",
   "metadata": {},
   "outputs": [],
   "source": [
    "def develop_prepare(file_test,file_test_before,file_cntrl,file_cntrl_before,param,before = False):\n",
    "    file_test_X = prepate_ab(file_test,param,before = False)\n",
    "    file_test_before_X = prepate_ab(file_test_before,param,before = True)\n",
    "    file_cntrl_X = prepate_ab(file_cntrl,param,before = False)\n",
    "    file_cntrl_before_X = prepate_ab(file_cntrl_before,param,before = True)\n",
    "    return file_test_X,file_test_before_X,file_cntrl_X,file_cntrl_before_X\n",
    "    "
   ]
  },
  {
   "cell_type": "code",
   "execution_count": 15,
   "id": "4cdecaab",
   "metadata": {},
   "outputs": [
    {
     "data": {
      "text/html": [
       "<div>\n",
       "<style scoped>\n",
       "    .dataframe tbody tr th:only-of-type {\n",
       "        vertical-align: middle;\n",
       "    }\n",
       "\n",
       "    .dataframe tbody tr th {\n",
       "        vertical-align: top;\n",
       "    }\n",
       "\n",
       "    .dataframe thead th {\n",
       "        text-align: right;\n",
       "    }\n",
       "</style>\n",
       "<table border=\"1\" class=\"dataframe\">\n",
       "  <thead>\n",
       "    <tr style=\"text-align: right;\">\n",
       "      <th></th>\n",
       "      <th>index</th>\n",
       "      <th>Date</th>\n",
       "      <th>CityName</th>\n",
       "      <th>tickets</th>\n",
       "    </tr>\n",
       "  </thead>\n",
       "  <tbody>\n",
       "    <tr>\n",
       "      <th>0</th>\n",
       "      <td>0</td>\n",
       "      <td>2022-04-08</td>\n",
       "      <td>Курск</td>\n",
       "      <td>47.0</td>\n",
       "    </tr>\n",
       "    <tr>\n",
       "      <th>1</th>\n",
       "      <td>1</td>\n",
       "      <td>2022-04-08</td>\n",
       "      <td>Нижний Тагил</td>\n",
       "      <td>71.0</td>\n",
       "    </tr>\n",
       "    <tr>\n",
       "      <th>2</th>\n",
       "      <td>2</td>\n",
       "      <td>2022-04-08</td>\n",
       "      <td>Новокуйбышевск</td>\n",
       "      <td>38.0</td>\n",
       "    </tr>\n",
       "    <tr>\n",
       "      <th>3</th>\n",
       "      <td>3</td>\n",
       "      <td>2022-04-08</td>\n",
       "      <td>Орск</td>\n",
       "      <td>18.0</td>\n",
       "    </tr>\n",
       "    <tr>\n",
       "      <th>4</th>\n",
       "      <td>4</td>\n",
       "      <td>2022-04-08</td>\n",
       "      <td>Пенза</td>\n",
       "      <td>82.0</td>\n",
       "    </tr>\n",
       "    <tr>\n",
       "      <th>5</th>\n",
       "      <td>5</td>\n",
       "      <td>2022-04-08</td>\n",
       "      <td>Уфа</td>\n",
       "      <td>220.0</td>\n",
       "    </tr>\n",
       "    <tr>\n",
       "      <th>6</th>\n",
       "      <td>6</td>\n",
       "      <td>2022-04-09</td>\n",
       "      <td>Курск</td>\n",
       "      <td>76.0</td>\n",
       "    </tr>\n",
       "  </tbody>\n",
       "</table>\n",
       "</div>"
      ],
      "text/plain": [
       "   index       Date        CityName  tickets\n",
       "0      0 2022-04-08           Курск     47.0\n",
       "1      1 2022-04-08    Нижний Тагил     71.0\n",
       "2      2 2022-04-08  Новокуйбышевск     38.0\n",
       "3      3 2022-04-08            Орск     18.0\n",
       "4      4 2022-04-08           Пенза     82.0\n",
       "5      5 2022-04-08             Уфа    220.0\n",
       "6      6 2022-04-09           Курск     76.0"
      ]
     },
     "execution_count": 15,
     "metadata": {},
     "output_type": "execute_result"
    }
   ],
   "source": [
    "file_test_X = prepate_ab(file_test,param,before = False)\n",
    "file_test_X.head(7)"
   ]
  },
  {
   "cell_type": "code",
   "execution_count": 16,
   "id": "ffe7517e",
   "metadata": {},
   "outputs": [
    {
     "data": {
      "text/html": [
       "<div>\n",
       "<style scoped>\n",
       "    .dataframe tbody tr th:only-of-type {\n",
       "        vertical-align: middle;\n",
       "    }\n",
       "\n",
       "    .dataframe tbody tr th {\n",
       "        vertical-align: top;\n",
       "    }\n",
       "\n",
       "    .dataframe thead th {\n",
       "        text-align: right;\n",
       "    }\n",
       "</style>\n",
       "<table border=\"1\" class=\"dataframe\">\n",
       "  <thead>\n",
       "    <tr style=\"text-align: right;\">\n",
       "      <th></th>\n",
       "      <th>index</th>\n",
       "      <th>Date</th>\n",
       "      <th>CityName</th>\n",
       "      <th>tickets_before</th>\n",
       "    </tr>\n",
       "  </thead>\n",
       "  <tbody>\n",
       "    <tr>\n",
       "      <th>0</th>\n",
       "      <td>0</td>\n",
       "      <td>2022-02-24</td>\n",
       "      <td>Курск</td>\n",
       "      <td>25.0</td>\n",
       "    </tr>\n",
       "    <tr>\n",
       "      <th>1</th>\n",
       "      <td>1</td>\n",
       "      <td>2022-02-24</td>\n",
       "      <td>Нижний Тагил</td>\n",
       "      <td>33.0</td>\n",
       "    </tr>\n",
       "    <tr>\n",
       "      <th>2</th>\n",
       "      <td>2</td>\n",
       "      <td>2022-02-24</td>\n",
       "      <td>Новокуйбышевск</td>\n",
       "      <td>24.0</td>\n",
       "    </tr>\n",
       "    <tr>\n",
       "      <th>3</th>\n",
       "      <td>3</td>\n",
       "      <td>2022-02-24</td>\n",
       "      <td>Орск</td>\n",
       "      <td>14.0</td>\n",
       "    </tr>\n",
       "    <tr>\n",
       "      <th>4</th>\n",
       "      <td>4</td>\n",
       "      <td>2022-02-24</td>\n",
       "      <td>Пенза</td>\n",
       "      <td>67.0</td>\n",
       "    </tr>\n",
       "    <tr>\n",
       "      <th>5</th>\n",
       "      <td>5</td>\n",
       "      <td>2022-02-24</td>\n",
       "      <td>Уфа</td>\n",
       "      <td>106.0</td>\n",
       "    </tr>\n",
       "    <tr>\n",
       "      <th>6</th>\n",
       "      <td>6</td>\n",
       "      <td>2022-02-25</td>\n",
       "      <td>Курск</td>\n",
       "      <td>36.0</td>\n",
       "    </tr>\n",
       "  </tbody>\n",
       "</table>\n",
       "</div>"
      ],
      "text/plain": [
       "   index       Date        CityName  tickets_before\n",
       "0      0 2022-02-24           Курск            25.0\n",
       "1      1 2022-02-24    Нижний Тагил            33.0\n",
       "2      2 2022-02-24  Новокуйбышевск            24.0\n",
       "3      3 2022-02-24            Орск            14.0\n",
       "4      4 2022-02-24           Пенза            67.0\n",
       "5      5 2022-02-24             Уфа           106.0\n",
       "6      6 2022-02-25           Курск            36.0"
      ]
     },
     "execution_count": 16,
     "metadata": {},
     "output_type": "execute_result"
    }
   ],
   "source": [
    "file_test_before_X = prepate_ab(file_test_before,param,before = True)\n",
    "file_test_before_X.head(7)"
   ]
  },
  {
   "cell_type": "code",
   "execution_count": 17,
   "id": "b9037323",
   "metadata": {},
   "outputs": [
    {
     "data": {
      "text/html": [
       "<div>\n",
       "<style scoped>\n",
       "    .dataframe tbody tr th:only-of-type {\n",
       "        vertical-align: middle;\n",
       "    }\n",
       "\n",
       "    .dataframe tbody tr th {\n",
       "        vertical-align: top;\n",
       "    }\n",
       "\n",
       "    .dataframe thead th {\n",
       "        text-align: right;\n",
       "    }\n",
       "</style>\n",
       "<table border=\"1\" class=\"dataframe\">\n",
       "  <thead>\n",
       "    <tr style=\"text-align: right;\">\n",
       "      <th></th>\n",
       "      <th>index</th>\n",
       "      <th>Date</th>\n",
       "      <th>CityName</th>\n",
       "      <th>tickets</th>\n",
       "    </tr>\n",
       "  </thead>\n",
       "  <tbody>\n",
       "    <tr>\n",
       "      <th>0</th>\n",
       "      <td>0</td>\n",
       "      <td>2022-04-08</td>\n",
       "      <td>Ростов-на-Дону</td>\n",
       "      <td>228.0</td>\n",
       "    </tr>\n",
       "    <tr>\n",
       "      <th>1</th>\n",
       "      <td>1</td>\n",
       "      <td>2022-04-08</td>\n",
       "      <td>Рыбинск</td>\n",
       "      <td>14.0</td>\n",
       "    </tr>\n",
       "    <tr>\n",
       "      <th>2</th>\n",
       "      <td>2</td>\n",
       "      <td>2022-04-08</td>\n",
       "      <td>Рязань</td>\n",
       "      <td>117.0</td>\n",
       "    </tr>\n",
       "    <tr>\n",
       "      <th>3</th>\n",
       "      <td>3</td>\n",
       "      <td>2022-04-08</td>\n",
       "      <td>Салават</td>\n",
       "      <td>20.0</td>\n",
       "    </tr>\n",
       "    <tr>\n",
       "      <th>4</th>\n",
       "      <td>4</td>\n",
       "      <td>2022-04-08</td>\n",
       "      <td>Самара</td>\n",
       "      <td>515.0</td>\n",
       "    </tr>\n",
       "    <tr>\n",
       "      <th>5</th>\n",
       "      <td>5</td>\n",
       "      <td>2022-04-08</td>\n",
       "      <td>Санкт-Петербург</td>\n",
       "      <td>1539.0</td>\n",
       "    </tr>\n",
       "    <tr>\n",
       "      <th>6</th>\n",
       "      <td>6</td>\n",
       "      <td>2022-04-09</td>\n",
       "      <td>Ростов-на-Дону</td>\n",
       "      <td>252.0</td>\n",
       "    </tr>\n",
       "  </tbody>\n",
       "</table>\n",
       "</div>"
      ],
      "text/plain": [
       "   index       Date         CityName  tickets\n",
       "0      0 2022-04-08   Ростов-на-Дону    228.0\n",
       "1      1 2022-04-08          Рыбинск     14.0\n",
       "2      2 2022-04-08           Рязань    117.0\n",
       "3      3 2022-04-08          Салават     20.0\n",
       "4      4 2022-04-08           Самара    515.0\n",
       "5      5 2022-04-08  Санкт-Петербург   1539.0\n",
       "6      6 2022-04-09   Ростов-на-Дону    252.0"
      ]
     },
     "execution_count": 17,
     "metadata": {},
     "output_type": "execute_result"
    }
   ],
   "source": [
    "file_cntrl_X = prepate_ab(file_cntrl,param,before = False)\n",
    "file_cntrl_X.head(7)"
   ]
  },
  {
   "cell_type": "code",
   "execution_count": 18,
   "id": "dd2f9a4c",
   "metadata": {},
   "outputs": [
    {
     "data": {
      "text/html": [
       "<div>\n",
       "<style scoped>\n",
       "    .dataframe tbody tr th:only-of-type {\n",
       "        vertical-align: middle;\n",
       "    }\n",
       "\n",
       "    .dataframe tbody tr th {\n",
       "        vertical-align: top;\n",
       "    }\n",
       "\n",
       "    .dataframe thead th {\n",
       "        text-align: right;\n",
       "    }\n",
       "</style>\n",
       "<table border=\"1\" class=\"dataframe\">\n",
       "  <thead>\n",
       "    <tr style=\"text-align: right;\">\n",
       "      <th></th>\n",
       "      <th>index</th>\n",
       "      <th>Date</th>\n",
       "      <th>CityName</th>\n",
       "      <th>tickets_before</th>\n",
       "    </tr>\n",
       "  </thead>\n",
       "  <tbody>\n",
       "    <tr>\n",
       "      <th>0</th>\n",
       "      <td>0</td>\n",
       "      <td>2022-02-24</td>\n",
       "      <td>Ростов-на-Дону</td>\n",
       "      <td>183.0</td>\n",
       "    </tr>\n",
       "    <tr>\n",
       "      <th>1</th>\n",
       "      <td>1</td>\n",
       "      <td>2022-02-24</td>\n",
       "      <td>Рыбинск</td>\n",
       "      <td>16.0</td>\n",
       "    </tr>\n",
       "    <tr>\n",
       "      <th>2</th>\n",
       "      <td>2</td>\n",
       "      <td>2022-02-24</td>\n",
       "      <td>Рязань</td>\n",
       "      <td>54.0</td>\n",
       "    </tr>\n",
       "    <tr>\n",
       "      <th>3</th>\n",
       "      <td>3</td>\n",
       "      <td>2022-02-24</td>\n",
       "      <td>Салават</td>\n",
       "      <td>12.0</td>\n",
       "    </tr>\n",
       "    <tr>\n",
       "      <th>4</th>\n",
       "      <td>4</td>\n",
       "      <td>2022-02-24</td>\n",
       "      <td>Самара</td>\n",
       "      <td>306.0</td>\n",
       "    </tr>\n",
       "    <tr>\n",
       "      <th>5</th>\n",
       "      <td>5</td>\n",
       "      <td>2022-02-24</td>\n",
       "      <td>Санкт-Петербург</td>\n",
       "      <td>818.0</td>\n",
       "    </tr>\n",
       "    <tr>\n",
       "      <th>6</th>\n",
       "      <td>6</td>\n",
       "      <td>2022-02-25</td>\n",
       "      <td>Ростов-на-Дону</td>\n",
       "      <td>205.0</td>\n",
       "    </tr>\n",
       "  </tbody>\n",
       "</table>\n",
       "</div>"
      ],
      "text/plain": [
       "   index       Date         CityName  tickets_before\n",
       "0      0 2022-02-24   Ростов-на-Дону           183.0\n",
       "1      1 2022-02-24          Рыбинск            16.0\n",
       "2      2 2022-02-24           Рязань            54.0\n",
       "3      3 2022-02-24          Салават            12.0\n",
       "4      4 2022-02-24           Самара           306.0\n",
       "5      5 2022-02-24  Санкт-Петербург           818.0\n",
       "6      6 2022-02-25   Ростов-на-Дону           205.0"
      ]
     },
     "execution_count": 18,
     "metadata": {},
     "output_type": "execute_result"
    }
   ],
   "source": [
    "file_cntrl_before_X = prepate_ab(file_cntrl_before,param,before = True)\n",
    "file_cntrl_before_X.head(7)"
   ]
  },
  {
   "cell_type": "code",
   "execution_count": 19,
   "id": "dcc4e180",
   "metadata": {},
   "outputs": [],
   "source": [
    "def test_cntrl_X(file_test_X,file_test_before_X):\n",
    "    text_X = file_test_X.merge(file_test_before_X, on = ['index','CityName'], how = 'inner')\n",
    "    text_X = text_X.drop(['index','Date_x','Date_y'],axis = 1)\n",
    "    return text_X"
   ]
  },
  {
   "cell_type": "code",
   "execution_count": 20,
   "id": "f8b6a354",
   "metadata": {},
   "outputs": [
    {
     "data": {
      "text/html": [
       "<div>\n",
       "<style scoped>\n",
       "    .dataframe tbody tr th:only-of-type {\n",
       "        vertical-align: middle;\n",
       "    }\n",
       "\n",
       "    .dataframe tbody tr th {\n",
       "        vertical-align: top;\n",
       "    }\n",
       "\n",
       "    .dataframe thead th {\n",
       "        text-align: right;\n",
       "    }\n",
       "</style>\n",
       "<table border=\"1\" class=\"dataframe\">\n",
       "  <thead>\n",
       "    <tr style=\"text-align: right;\">\n",
       "      <th></th>\n",
       "      <th>CityName</th>\n",
       "      <th>tickets</th>\n",
       "      <th>tickets_before</th>\n",
       "    </tr>\n",
       "  </thead>\n",
       "  <tbody>\n",
       "    <tr>\n",
       "      <th>0</th>\n",
       "      <td>Курск</td>\n",
       "      <td>47.0</td>\n",
       "      <td>25.0</td>\n",
       "    </tr>\n",
       "    <tr>\n",
       "      <th>1</th>\n",
       "      <td>Нижний Тагил</td>\n",
       "      <td>71.0</td>\n",
       "      <td>33.0</td>\n",
       "    </tr>\n",
       "    <tr>\n",
       "      <th>2</th>\n",
       "      <td>Новокуйбышевск</td>\n",
       "      <td>38.0</td>\n",
       "      <td>24.0</td>\n",
       "    </tr>\n",
       "    <tr>\n",
       "      <th>3</th>\n",
       "      <td>Орск</td>\n",
       "      <td>18.0</td>\n",
       "      <td>14.0</td>\n",
       "    </tr>\n",
       "    <tr>\n",
       "      <th>4</th>\n",
       "      <td>Пенза</td>\n",
       "      <td>82.0</td>\n",
       "      <td>67.0</td>\n",
       "    </tr>\n",
       "    <tr>\n",
       "      <th>5</th>\n",
       "      <td>Уфа</td>\n",
       "      <td>220.0</td>\n",
       "      <td>106.0</td>\n",
       "    </tr>\n",
       "    <tr>\n",
       "      <th>6</th>\n",
       "      <td>Курск</td>\n",
       "      <td>76.0</td>\n",
       "      <td>36.0</td>\n",
       "    </tr>\n",
       "  </tbody>\n",
       "</table>\n",
       "</div>"
      ],
      "text/plain": [
       "         CityName  tickets  tickets_before\n",
       "0           Курск     47.0            25.0\n",
       "1    Нижний Тагил     71.0            33.0\n",
       "2  Новокуйбышевск     38.0            24.0\n",
       "3            Орск     18.0            14.0\n",
       "4           Пенза     82.0            67.0\n",
       "5             Уфа    220.0           106.0\n",
       "6           Курск     76.0            36.0"
      ]
     },
     "execution_count": 20,
     "metadata": {},
     "output_type": "execute_result"
    }
   ],
   "source": [
    "text_X = test_cntrl_X(file_test_X,file_test_before_X)\n",
    "text_X.head(7)"
   ]
  },
  {
   "cell_type": "code",
   "execution_count": 21,
   "id": "469a9488",
   "metadata": {},
   "outputs": [
    {
     "data": {
      "text/html": [
       "<div>\n",
       "<style scoped>\n",
       "    .dataframe tbody tr th:only-of-type {\n",
       "        vertical-align: middle;\n",
       "    }\n",
       "\n",
       "    .dataframe tbody tr th {\n",
       "        vertical-align: top;\n",
       "    }\n",
       "\n",
       "    .dataframe thead th {\n",
       "        text-align: right;\n",
       "    }\n",
       "</style>\n",
       "<table border=\"1\" class=\"dataframe\">\n",
       "  <thead>\n",
       "    <tr style=\"text-align: right;\">\n",
       "      <th></th>\n",
       "      <th>CityName</th>\n",
       "      <th>tickets</th>\n",
       "      <th>tickets_before</th>\n",
       "    </tr>\n",
       "  </thead>\n",
       "  <tbody>\n",
       "    <tr>\n",
       "      <th>0</th>\n",
       "      <td>Ростов-на-Дону</td>\n",
       "      <td>228.0</td>\n",
       "      <td>183.0</td>\n",
       "    </tr>\n",
       "    <tr>\n",
       "      <th>1</th>\n",
       "      <td>Рыбинск</td>\n",
       "      <td>14.0</td>\n",
       "      <td>16.0</td>\n",
       "    </tr>\n",
       "    <tr>\n",
       "      <th>2</th>\n",
       "      <td>Рязань</td>\n",
       "      <td>117.0</td>\n",
       "      <td>54.0</td>\n",
       "    </tr>\n",
       "    <tr>\n",
       "      <th>3</th>\n",
       "      <td>Салават</td>\n",
       "      <td>20.0</td>\n",
       "      <td>12.0</td>\n",
       "    </tr>\n",
       "    <tr>\n",
       "      <th>4</th>\n",
       "      <td>Самара</td>\n",
       "      <td>515.0</td>\n",
       "      <td>306.0</td>\n",
       "    </tr>\n",
       "    <tr>\n",
       "      <th>5</th>\n",
       "      <td>Санкт-Петербург</td>\n",
       "      <td>1539.0</td>\n",
       "      <td>818.0</td>\n",
       "    </tr>\n",
       "    <tr>\n",
       "      <th>6</th>\n",
       "      <td>Ростов-на-Дону</td>\n",
       "      <td>252.0</td>\n",
       "      <td>205.0</td>\n",
       "    </tr>\n",
       "  </tbody>\n",
       "</table>\n",
       "</div>"
      ],
      "text/plain": [
       "          CityName  tickets  tickets_before\n",
       "0   Ростов-на-Дону    228.0           183.0\n",
       "1          Рыбинск     14.0            16.0\n",
       "2           Рязань    117.0            54.0\n",
       "3          Салават     20.0            12.0\n",
       "4           Самара    515.0           306.0\n",
       "5  Санкт-Петербург   1539.0           818.0\n",
       "6   Ростов-на-Дону    252.0           205.0"
      ]
     },
     "execution_count": 21,
     "metadata": {},
     "output_type": "execute_result"
    }
   ],
   "source": [
    "cntrl_X = test_cntrl_X(file_cntrl_X,file_cntrl_before_X)\n",
    "cntrl_X.head(7)"
   ]
  },
  {
   "cell_type": "markdown",
   "id": "d85a1c65",
   "metadata": {},
   "source": [
    "A/B тест"
   ]
  },
  {
   "cell_type": "code",
   "execution_count": 22,
   "id": "968f0f43",
   "metadata": {},
   "outputs": [],
   "source": [
    "def a_b_test(text_X,cntrl_X,param):\n",
    "    X = (cntrl_X[param]/text_X[param])/(cntrl_X[f'{param}_before']/text_X[f'{param}_before']) - 1\n",
    "    inds_test = np.random.randint(len(X), size=(len(X), 10**5))\n",
    "    inds_ctrl = np.random.randint(len(X), size=(len(X), 10**5))\n",
    "    test_bef = text_X[f'{param}_before'].values[inds_test]\n",
    "    test_aft = text_X[param].values[inds_test]\n",
    "    ctrl_bef = cntrl_X[f'{param}_before'].values[inds_ctrl]\n",
    "    ctrl_aft = cntrl_X[param].values[inds_ctrl]\n",
    "    test_before_test_m = np.mean(test_bef,axis = 0)\n",
    "    test_after_test_m = np.mean(test_aft,axis = 0)\n",
    "    ctrl_before_test_m = np.mean(ctrl_bef,axis = 0)\n",
    "    ctrl_after_test_m = np.mean(ctrl_aft,axis = 0)    \n",
    "    X = (ctrl_after_test_m/test_after_test_m)/(ctrl_before_test_m/test_before_test_m) - 1\n",
    "    left = np.quantile(X,0.025)\n",
    "    right = np.quantile(X,0.975)\n",
    "    meann = X.mean()\n",
    "    line_sq = plt.hist(X,bins = 250,density = True);\n",
    "    line_l = plt.axvline(left, color = 'r')\n",
    "    line_r =plt.axvline(right, color = 'r',label = 'Доверительный интервал')\n",
    "    line_1 = plt.axvline(meann, color = 'black',linestyle = ':',linewidth = 3,label = 'Среднее значение')\n",
    "    line_l = plt.axvline(0, color = 'g',linestyle = '--',label = 'Значение 0')\n",
    "    plt.xlabel('Прирост')\n",
    "    plt.ylabel('Количество');\n",
    "    plt.title('95% доверительный интервал для среднего значения')\n",
    "    plt.legend()\n",
    "    plt.show()\n",
    "    print(f'параметр {param}, его среднее значение ',X.mean())"
   ]
  },
  {
   "cell_type": "code",
   "execution_count": 23,
   "id": "2cba5f98",
   "metadata": {},
   "outputs": [
    {
     "data": {
      "text/plain": [
       "0.037514229695151106"
      ]
     },
     "execution_count": 23,
     "metadata": {},
     "output_type": "execute_result"
    }
   ],
   "source": [
    "X = (cntrl_X[param]/text_X[param])/(cntrl_X[f'{param}_before']/text_X[f'{param}_before']) - 1\n",
    "X.mean()"
   ]
  },
  {
   "cell_type": "code",
   "execution_count": 24,
   "id": "7890af2b",
   "metadata": {},
   "outputs": [],
   "source": [
    "inds_test = np.random.randint(len(X), size=(len(X), 10**5))\n",
    "inds_ctrl = np.random.randint(len(X), size=(len(X), 10**5))\n",
    "test_bef = text_X[f'{param}_before'].values[inds_test]\n",
    "test_aft = text_X[param].values[inds_test]\n",
    "ctrl_bef = cntrl_X[f'{param}_before'].values[inds_ctrl]\n",
    "ctrl_aft = cntrl_X[param].values[inds_ctrl]"
   ]
  },
  {
   "cell_type": "code",
   "execution_count": 25,
   "id": "24036023",
   "metadata": {},
   "outputs": [],
   "source": [
    "test_before_test_m = np.mean(test_bef,axis = 0)\n",
    "test_after_test_m = np.mean(test_aft,axis = 0)\n",
    "ctrl_before_test_m = np.mean(ctrl_bef,axis = 0)\n",
    "ctrl_after_test_m = np.mean(ctrl_aft,axis = 0)"
   ]
  },
  {
   "cell_type": "code",
   "execution_count": 26,
   "id": "84fd513f",
   "metadata": {},
   "outputs": [
    {
     "data": {
      "text/plain": [
       "-0.07441891451964967"
      ]
     },
     "execution_count": 26,
     "metadata": {},
     "output_type": "execute_result"
    }
   ],
   "source": [
    "X = (ctrl_after_test_m/test_after_test_m)/(ctrl_before_test_m/test_before_test_m) - 1\n",
    "X.mean()"
   ]
  },
  {
   "cell_type": "code",
   "execution_count": 27,
   "id": "4e8ef771",
   "metadata": {},
   "outputs": [
    {
     "data": {
      "text/plain": [
       "<matplotlib.legend.Legend at 0x22fc5b2df10>"
      ]
     },
     "execution_count": 27,
     "metadata": {},
     "output_type": "execute_result"
    },
    {
     "data": {
      "image/png": "[encoded data removed]",
      "text/plain": [
       "<Figure size 432x288 with 1 Axes>"
      ]
     },
     "metadata": {
      "needs_background": "light"
     },
     "output_type": "display_data"
    }
   ],
   "source": [
    "left = np.quantile(X,0.025)\n",
    "right = np.quantile(X,0.975)\n",
    "meann = X.mean()\n",
    "line_sq = plt.hist(X,bins = 250,density = True);\n",
    "line_l = plt.axvline(left, color = 'r')\n",
    "line_r =plt.axvline(right, color = 'r',label = 'Доверительный интервал')\n",
    "line_1 = plt.axvline(meann, color = 'black',linestyle = ':',linewidth = 3,label = 'Среднее значение')\n",
    "line_l = plt.axvline(0, color = 'g',linestyle = '--',label = 'Значение 0')\n",
    "plt.xlabel('Прирост')\n",
    "plt.ylabel('Количество');\n",
    "plt.title('95% доверительный интервал для среднего значения')\n",
    "plt.legend()"
   ]
  },
  {
   "cell_type": "markdown",
   "id": "c24646df",
   "metadata": {},
   "source": [
    "Рассмотрим другие параметр"
   ]
  },
  {
   "cell_type": "code",
   "execution_count": 29,
   "id": "cacc07e0",
   "metadata": {},
   "outputs": [],
   "source": [
    "sp = file.iloc[:,4:].columns.tolist()"
   ]
  },
  {
   "cell_type": "code",
   "execution_count": 30,
   "id": "53617bc8",
   "metadata": {},
   "outputs": [
    {
     "data": {
      "image/png": "[encoded data removed]",
      "text/plain": [
       "<Figure size 432x288 with 1 Axes>"
      ]
     },
     "metadata": {
      "needs_background": "light"
     },
     "output_type": "display_data"
    },
    {
     "name": "stdout",
     "output_type": "stream",
     "text": [
      "параметр rto, его среднее значение  -0.047099156451460934\n"
     ]
    },
    {
     "data": {
      "image/png": "[encoded data removed]",
      "text/plain": [
       "<Figure size 432x288 with 1 Axes>"
      ]
     },
     "metadata": {
      "needs_background": "light"
     },
     "output_type": "display_data"
    },
    {
     "name": "stdout",
     "output_type": "stream",
     "text": [
      "параметр rto_do, его среднее значение  -0.07100777665976996\n"
     ]
    },
    {
     "data": {
      "image/png": "[encoded data removed]",
      "text/plain": [
       "<Figure size 432x288 with 1 Axes>"
      ]
     },
     "metadata": {
      "needs_background": "light"
     },
     "output_type": "display_data"
    },
    {
     "name": "stdout",
     "output_type": "stream",
     "text": [
      "параметр cost, его среднее значение  -0.07214100907739943\n"
     ]
    },
    {
     "data": {
      "image/png": "[encoded data removed]",
      "text/plain": [
       "<Figure size 432x288 with 1 Axes>"
      ]
     },
     "metadata": {
      "needs_background": "light"
     },
     "output_type": "display_data"
    },
    {
     "name": "stdout",
     "output_type": "stream",
     "text": [
      "параметр tickets, его среднее значение  -0.07443610330153878\n"
     ]
    },
    {
     "data": {
      "image/png": "[encoded data removed]",
      "text/plain": [
       "<Figure size 432x288 with 1 Axes>"
      ]
     },
     "metadata": {
      "needs_background": "light"
     },
     "output_type": "display_data"
    },
    {
     "name": "stdout",
     "output_type": "stream",
     "text": [
      "параметр qty, его среднее значение  -0.07013310749955426\n"
     ]
    },
    {
     "data": {
      "image/png": "[encoded data removed]",
      "text/plain": [
       "<Figure size 432x288 with 1 Axes>"
      ]
     },
     "metadata": {
      "needs_background": "light"
     },
     "output_type": "display_data"
    },
    {
     "name": "stdout",
     "output_type": "stream",
     "text": [
      "параметр clients_qty, его среднее значение  -0.007144735601181804\n"
     ]
    },
    {
     "data": {
      "image/png": "[encoded data removed]",
      "text/plain": [
       "<Figure size 432x288 with 1 Axes>"
      ]
     },
     "metadata": {
      "needs_background": "light"
     },
     "output_type": "display_data"
    },
    {
     "name": "stdout",
     "output_type": "stream",
     "text": [
      "параметр avg_time, его среднее значение  0.08319579618398691\n"
     ]
    },
    {
     "data": {
      "image/png": "[encoded data removed]",
      "text/plain": [
       "<Figure size 432x288 with 1 Axes>"
      ]
     },
     "metadata": {
      "needs_background": "light"
     },
     "output_type": "display_data"
    },
    {
     "name": "stdout",
     "output_type": "stream",
     "text": [
      "параметр avg_price, его среднее значение  0.022374087683333866\n"
     ]
    }
   ],
   "source": [
    "for i in sp:\n",
    "    param = i\n",
    "    file_test_X,file_test_before_X,file_cntrl_X,file_cntrl_before_X = develop_prepare(file_test,file_test_before,file_cntrl,file_cntrl_before,param,before = False)\n",
    "    text_X = test_cntrl_X(file_test_X,file_test_before_X)\n",
    "    cntrl_X = test_cntrl_X(file_cntrl_X,file_cntrl_before_X)\n",
    "    a_b_test(text_X,cntrl_X,param) "
   ]
  },
  {
   "cell_type": "markdown",
   "id": "833bb5b5",
   "metadata": {},
   "source": [
    "Как мы видим, значимые улучшение результатов получилось для   \n",
    "avg_time -  среднее время сессии (только по тем, кто оформил заказ)  \n",
    "avg_price - средняя цена"
   ]
  },
  {
   "cell_type": "markdown",
   "id": "5136ea17",
   "metadata": {},
   "source": [
    "А для других параметров, тест показал не значимое на уровне 95% но все же ухудшение"
   ]
  },
  {
   "cell_type": "markdown",
   "id": "3760bbde",
   "metadata": {},
   "source": [
    "Тест получился не совсем корректным, но некоторым причинам.  \n",
    "Во первых дата проведения теста. На результат теста могли повлиять другие события  \n",
    "ВО вторых выбор кородов на контроле. Нужно подбирать города не рандомно, а брать максимально похожие города. (Произвести стратификацию) \n",
    "Поэтому мы использовали метод CUPED для сглаживания этих проблем"
   ]
  },
  {
   "cell_type": "markdown",
   "id": "7f7bce28",
   "metadata": {},
   "source": [
    "4) Порассуждайте письменно, какие метрики можно было бы еще оценить, если бы вам были доступны все данные компании. \n"
   ]
  },
  {
   "cell_type": "markdown",
   "id": "f9a4858e",
   "metadata": {},
   "source": [
    "Основные метрики которые, тоже важно знать и оптимизировать.  \n",
    "1) Среднее время доставки  \n",
    "2) Количество новых пользователей по реферальным ссылкам  \n",
    "3) Количество новых пользователей по промоакциям (как например акция с фильмом Дюна или Бетмен)  \n",
    "4) Воронку продаж. То есть сколько человек, зашли в приложение -> положили в корзину-> купили товар"
   ]
  },
  {
   "cell_type": "markdown",
   "id": "8ac9d254",
   "metadata": {},
   "source": [
    "## Задание 3"
   ]
  },
  {
   "cell_type": "code",
   "execution_count": null,
   "id": "547b3b24",
   "metadata": {},
   "outputs": [],
   "source": [
    "### Собираем уникальных клиентов по дате и городу\n",
    "with first_step as ( \n",
    "select   \n",
    "cityname\n",
    ", date\n",
    ",count(DISTINCT(clientid)) as clientid\n",
    "from data_test\n",
    "groupby cityname,date)\n",
    "### делаем оконную функцию \n",
    "select \n",
    "  cityname\n",
    ", date\n",
    ",clientid - LAG(clientid,1,0) OVER(PARTITION BY cityname,date ORDER BY cityname,date) AS 'True_clientid'\n",
    "from first_step"
   ]
  }
 ],
 "metadata": {
  "kernelspec": {
   "display_name": "Python 3",
   "language": "python",
   "name": "python3"
  },
  "language_info": {
   "codemirror_mode": {
    "name": "ipython",
    "version": 3
   },
   "file_extension": ".py",
   "mimetype": "text/x-python",
   "name": "python",
   "nbconvert_exporter": "python",
   "pygments_lexer": "ipython3",
   "version": "3.8.8"
  }
 },
 "nbformat": 4,
 "nbformat_minor": 5
}
